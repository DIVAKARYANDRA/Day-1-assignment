{
  "nbformat": 4,
  "nbformat_minor": 0,
  "metadata": {
    "colab": {
      "name": "assignment 2 by divakar.ipynb",
      "provenance": [],
      "authorship_tag": "ABX9TyMBeDLuD+oiQI6kFNg3y1N7",
      "include_colab_link": true
    },
    "kernelspec": {
      "name": "python3",
      "display_name": "Python 3"
    },
    "language_info": {
      "name": "python"
    }
  },
  "cells": [
    {
      "cell_type": "markdown",
      "metadata": {
        "id": "view-in-github",
        "colab_type": "text"
      },
      "source": [
        "<a href=\"https://colab.research.google.com/github/DIVAKARYANDRA/Day-1-assignment/blob/main/assignment_2_by_divakar.ipynb\" target=\"_parent\"><img src=\"https://colab.research.google.com/assets/colab-badge.svg\" alt=\"Open In Colab\"/></a>"
      ]
    },
    {
      "cell_type": "code",
      "execution_count": 7,
      "metadata": {
        "colab": {
          "base_uri": "https://localhost:8080/"
        },
        "id": "eWsZ5cR35geS",
        "outputId": "39f8653e-6675-4e7b-8e6f-b3405f592553"
      },
      "outputs": [
        {
          "output_type": "stream",
          "name": "stdout",
          "text": [
            " e\n",
            "congratulations\n"
          ]
        }
      ],
      "source": [
        "lucky = \"hello world\"\n",
        "inputs = input(\" \").lower()\n",
        "if inputs == lucky[0] or inputs == lucky[1] or inputs == lucky[3] or inputs == lucky[6] or inputs == lucky[8]:\n",
        "  print(\"congratulations\")\n",
        "else:\n",
        "  print(\"unlucky\")"
      ]
    }
  ]
}